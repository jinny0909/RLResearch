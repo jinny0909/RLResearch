{
  "nbformat": 4,
  "nbformat_minor": 0,
  "metadata": {
    "colab": {
      "name": "MLBConstraintLibrary.ipynb",
      "provenance": [],
      "collapsed_sections": []
    },
    "kernelspec": {
      "name": "python3",
      "display_name": "Python 3"
    },
    "language_info": {
      "name": "python"
    }
  },
  "cells": [
    {
      "cell_type": "markdown",
      "source": [
        "<p align = \"justify\">\n",
        "Here, we will write the same constraint class except we will now use Gurobi instead of Python OR tools. The benefit of the Gurobi is that it runs significantly faster than the Python OR tools.\n",
        "</p>"
      ],
      "metadata": {
        "id": "ZF2H1BS6S1XP"
      }
    },
    {
      "cell_type": "code",
      "source": [
        "!pip install gurobipy"
      ],
      "metadata": {
        "id": "OQwcwp1lS-Rv",
        "colab": {
          "base_uri": "https://localhost:8080/"
        },
        "outputId": "24b33af1-03e3-4fb5-cb5d-b99fa434d8f2"
      },
      "execution_count": null,
      "outputs": [
        {
          "output_type": "stream",
          "name": "stdout",
          "text": [
            "Collecting gurobipy\n",
            "  Downloading gurobipy-9.5.0-cp37-cp37m-manylinux2014_x86_64.whl (11.5 MB)\n",
            "\u001b[K     |████████████████████████████████| 11.5 MB 13.8 MB/s \n",
            "\u001b[?25hInstalling collected packages: gurobipy\n",
            "Successfully installed gurobipy-9.5.0\n"
          ]
        }
      ]
    },
    {
      "cell_type": "code",
      "source": [
        "from gurobipy import *\n",
        "import random\n",
        "\n",
        "class MLBSchedulingGurobi(object):\n",
        "  def __init__(self):\n",
        "    ## based on the MLB scheduling Wikipedia, we have 52 series (2 series per week)\n",
        "    self.model = Model()\n",
        "    self.assignments = {}\n",
        "    self.series = range(1,53)\n",
        "    self.central_division = {'WhiteSox':'Chicago','Guardians':'Cleveland','Tigers':'Detroit','Royals':'Kansas City',\n",
        "                                  'Twins':'Minnosota','Clubs':'Chicago','Reds':'Cincinnati','Brewers':'Milwaukee',\n",
        "                                  'Pirates':'Pittsburgh','Cardinals':'St.Louis'}\n",
        "\n",
        "    self.west_division = {'Astros':'Houston','Angels':'Los Angeles','Athletics':'Oakland','Mariners':'Seattle',\n",
        "                      'Rangers':'Texas','Diamondbacks':'Arizona','Rockies':'Colorado','Dodgers':'Los Angeles',\n",
        "                      'Padres':'San Diego','Giants':'San Francisco'}\n",
        "\n",
        "    self.east_division = {'Orioles':'Baltimore','Braves':'Atlanta','RedSox':'Boston','Marlins':'Miami','Yankees':'New York',\n",
        "                      'Mets':'New York','Rays':'Tampa Bay','Phillies':'Philadelphia','BlueJays':'Toronto','Nationals':'Washington'}\n",
        "\n",
        "    self.all_divisions = [self.central_division,self.west_division,self.east_division]\n",
        "\n",
        "    # all MLB teams\n",
        "    self.teams = list(self.central_division.keys()) + list(self.east_division.keys()) + list(self.west_division.keys())\n",
        "    \n",
        "    #keeping track of constraints added, so that we can delete or modify \n",
        "\n",
        "    for s in self.series:\n",
        "      for away_team in self.teams:\n",
        "        for home_team in self.teams:\n",
        "          if away_team != home_team:\n",
        "            value = self.model.addVar(vtype = GRB.BINARY, name = 'X' + str(s) + '_' + away_team + '_' + home_team)\n",
        "            self.assignments[(s,away_team,home_team)] = value\n",
        "\n",
        "  def test(self): \n",
        "    print(\"tested successfully\")\n",
        "  ## Each team plays a certain number of inter-divisional games\n",
        "  def numInterDivisionalGames(self,inter_divisional_games):\n",
        "    for division in self.all_divisions:\n",
        "      for team in division.keys():\n",
        "        sum = 0\n",
        "        for other_team in self.teams:\n",
        "          if other_team not in division.keys():\n",
        "            for s in self.series:\n",
        "              if s % 2 == 0:\n",
        "                sum = sum + 4 * (self.assignments[(s,team,other_team)] + self.assignments[(s,other_team,team)])\n",
        "              else:\n",
        "                sum = sum + 3 * (self.assignments[(s,team,other_team)] + self.assignments[(s,other_team,team)])\n",
        "        self.model.addConstr(sum >= inter_divisional_games)\n",
        "\n",
        "  ## Each teach plays a number of intra-divisional games\n",
        "  def numIntraDivisionalGames(self,intra_divisional_games):\n",
        "    for division in self.all_divisions:\n",
        "      for team in division.keys():\n",
        "        sum = 0\n",
        "        for other_team in self.teams:\n",
        "          if other_team in division.keys() and team != other_team:\n",
        "            for s in self.series:\n",
        "              if s % 2 == 0:\n",
        "                sum = sum + 4 * (self.assignments[(s,team,other_team)] + self.assignments[(s,other_team,team)])\n",
        "              else:\n",
        "                sum = sum + 3 * (self.assignments[(s,team,other_team)] + self.assignments[(s,other_team,team)])\n",
        "        self.model.addConstr(sum >= intra_divisional_games)\n",
        "  \n",
        "  ## Each team plays in each slot (series).\n",
        "  def playInEverySlot(self):\n",
        "    for s in self.series:\n",
        "      for curr_team in self.teams:\n",
        "        sum = 0\n",
        "        for opposing_team in self.teams:\n",
        "          if curr_team != opposing_team:\n",
        "            sum = sum + self.assignments[(s,curr_team,opposing_team)] + self.assignments[(s,opposing_team,curr_team)] \n",
        "        self.model.addConstr(sum == 1)\n",
        "\n",
        "  ## Each slot (or game) is home or away (interpreation: if one team plays another during one slot (or game)\n",
        "  # , one is home and another is away)\n",
        "  def setHomeAwayPerGame(self):\n",
        "    for s in self.series:\n",
        "      for i in range(len(self.teams)):\n",
        "        for j in range(i+1,len(self.teams)):\n",
        "          curr_team = self.teams[i]\n",
        "          opposing_team = self.teams[j]\n",
        "          sum = self.assignments[(s,curr_team,opposing_team)] + self.assignments[(s,opposing_team,curr_team)]\n",
        "          self.model.addConstr(sum <= 1)\n",
        "  \n",
        "  ## Modify the previous constraint on the exact number of home games to at least a certain\n",
        "  ## number of home games\n",
        "  ## Based on the Wikipedia for the MLB scheduling, we have series consisting of 3 and 4 games\n",
        "  ## For this example, we will define two series per week: 1st one Monday - Wednesday\n",
        "  ## Also, we will define the second series: 2nd one Thursday - Sunday\n",
        "  ## Each series we either have 3 or 4 games (namely for odd series, we will use 3 games\n",
        "  ## and for even number series, we will use 4 games)\n",
        "  def setNumHomeGamesMinimum(self,min_home_games):\n",
        "    for home_team in self.teams:\n",
        "      sum = 0\n",
        "      for away_team in self.teams:\n",
        "        if home_team != away_team:\n",
        "          for s in self.series:\n",
        "            if s % 2 == 0: ## even number series\n",
        "              sum = sum + 4 * self.assignments[(s,away_team,home_team)]\n",
        "            else:\n",
        "              sum = sum + 3 * self.assignments[(s,away_team,home_team)]\n",
        "      self.model.addConstr(sum >= min_home_games)\n",
        "\n",
        "  ## Here we will set the number of Friday and Saturday home games as another constraint\n",
        "  ## each of the even numbered series has 2 Friday and Saturday games\n",
        "  def setFridayAndSaturdayHomeGames(self,num_games):\n",
        "    for home_team in self.teams:\n",
        "      sum = 0\n",
        "      for away_team in self.teams:\n",
        "        if home_team != away_team:\n",
        "          for s in self.series:\n",
        "            if s % 2 == 0: ## even number series\n",
        "              sum = sum + 2 * self.assignments[(s,away_team,home_team)]\n",
        "      setFriSatHomeGames = self.model.addConstr(sum >= num_games)\n",
        "      print(setFriSatHomeGames)\n",
        "\n",
        "  ## No back to back series between each team\n",
        "  def noBacktoBackSeries(self):\n",
        "    for team in self.teams:\n",
        "      for opposing_team in self.teams:\n",
        "        if team != opposing_team:\n",
        "          for j in range(1,52):\n",
        "            curr_series = j\n",
        "            next_series = j + 1\n",
        "\n",
        "            ## Note if team RedSox plays Astros on Series 1\n",
        "            ## RedSox cannot play Astros nor can Astros play RedSox on Series 2\n",
        "            self.model.addConstr(self.assignments[(curr_series,team,opposing_team)] \n",
        "                            + self.assignments[(next_series,team,opposing_team)] <= 1)\n",
        "            self.model.addConstr(self.assignments[(curr_series,team,opposing_team)] \n",
        "                            + self.assignments[(next_series,opposing_team,team)] <= 1)\n",
        "\n",
        "\n",
        "\n",
        "  #deleting constraints for the model\n",
        "  def deleteConstraint(self): \n",
        "    #choose by random which constraint to delete\n",
        "    constraints = self.model.getConstrs()[0:]\n",
        "\n",
        "    #adjust it so that it accepts user input \n",
        "    del_constraint = random.choice(constraints)\n",
        "    \n",
        "    #delete  \n",
        "    self.model.remove(del_constraint) #from beginning to end \n",
        "\n",
        "\n",
        "  ## Here we define the objective function for the problem\n",
        "  def setObjective(self):\n",
        "      ## Defining the objective function here\n",
        "      objective = 0.0\n",
        "      for s in self.series:\n",
        "        for away_team in self.teams:\n",
        "          for home_team in self.teams:\n",
        "            if home_team != away_team:\n",
        "              objective = objective + self.assignments[(s,away_team,home_team)]\n",
        "      return objective\n",
        "\n",
        "  def solve(self,objective):\n",
        "      ## solver solves the binary integer programming problem\n",
        "      self.model.setObjective(objective,GRB.MAXIMIZE)\n",
        "      self.model.optimize()\n",
        "      '''status = self.solver.Solve()\n",
        "\n",
        "      if status == pywraplp.Solver.OPTIMAL: # Optimal solution\n",
        "        for key,value in self.assignments.items():\n",
        "          # only print the decision variables that equal 1.0\n",
        "          if value.solution_value() == 1.0:\n",
        "            print(key,value.solution_value())\n",
        "        print('The optimal objective function value is ',self.solver.Objective().Value())\n",
        "\n",
        "      elif status == pywraplp.Solver.INFEASIBLE: #Infeasible solution\n",
        "        print('the problem is infeasible')\n",
        "      else:\n",
        "        print('the solution is not optimal')'''"
      ],
      "metadata": {
        "id": "o-QetdY1TCAn"
      },
      "execution_count": null,
      "outputs": []
    },
    {
      "cell_type": "code",
      "source": [
        "gurobi_test = MLBSchedulingGurobi()\n",
        "gurobi_test.numInterDivisionalGames(40)\n",
        "gurobi_test.setHomeAwayPerGame()\n",
        "gurobi_test.deleteConstraint()"
      ],
      "metadata": {
        "colab": {
          "base_uri": "https://localhost:8080/",
          "height": 346
        },
        "id": "6vJMXtoFXz26",
        "outputId": "eeadc090-0d42-4d5c-db58-1ce756c07e74"
      },
      "execution_count": null,
      "outputs": [
        {
          "output_type": "error",
          "ename": "IndexError",
          "evalue": "ignored",
          "traceback": [
            "\u001b[0;31m---------------------------------------------------------------------------\u001b[0m",
            "\u001b[0;31mIndexError\u001b[0m                                Traceback (most recent call last)",
            "\u001b[0;32m<ipython-input-10-ffe516509abe>\u001b[0m in \u001b[0;36m<module>\u001b[0;34m()\u001b[0m\n\u001b[1;32m      2\u001b[0m \u001b[0mgurobi_test\u001b[0m\u001b[0;34m.\u001b[0m\u001b[0mnumInterDivisionalGames\u001b[0m\u001b[0;34m(\u001b[0m\u001b[0;36m40\u001b[0m\u001b[0;34m)\u001b[0m\u001b[0;34m\u001b[0m\u001b[0;34m\u001b[0m\u001b[0m\n\u001b[1;32m      3\u001b[0m \u001b[0mgurobi_test\u001b[0m\u001b[0;34m.\u001b[0m\u001b[0msetHomeAwayPerGame\u001b[0m\u001b[0;34m(\u001b[0m\u001b[0;34m)\u001b[0m\u001b[0;34m\u001b[0m\u001b[0;34m\u001b[0m\u001b[0m\n\u001b[0;32m----> 4\u001b[0;31m \u001b[0mgurobi_test\u001b[0m\u001b[0;34m.\u001b[0m\u001b[0mdeleteConstraint\u001b[0m\u001b[0;34m(\u001b[0m\u001b[0;34m)\u001b[0m\u001b[0;34m\u001b[0m\u001b[0;34m\u001b[0m\u001b[0m\n\u001b[0m",
            "\u001b[0;32m<ipython-input-9-77a977c78565>\u001b[0m in \u001b[0;36mdeleteConstraint\u001b[0;34m(self)\u001b[0m\n\u001b[1;32m    138\u001b[0m     \u001b[0;31m#choose by random which constraint to delete\u001b[0m\u001b[0;34m\u001b[0m\u001b[0;34m\u001b[0m\u001b[0;34m\u001b[0m\u001b[0m\n\u001b[1;32m    139\u001b[0m     \u001b[0mconstraints\u001b[0m \u001b[0;34m=\u001b[0m \u001b[0mself\u001b[0m\u001b[0;34m.\u001b[0m\u001b[0mmodel\u001b[0m\u001b[0;34m.\u001b[0m\u001b[0mgetConstrs\u001b[0m\u001b[0;34m(\u001b[0m\u001b[0;34m)\u001b[0m\u001b[0;34m[\u001b[0m\u001b[0;36m0\u001b[0m\u001b[0;34m:\u001b[0m\u001b[0;34m]\u001b[0m\u001b[0;34m\u001b[0m\u001b[0;34m\u001b[0m\u001b[0m\n\u001b[0;32m--> 140\u001b[0;31m     \u001b[0mdel_constraint\u001b[0m \u001b[0;34m=\u001b[0m \u001b[0mrandom\u001b[0m\u001b[0;34m.\u001b[0m\u001b[0mchoice\u001b[0m\u001b[0;34m(\u001b[0m\u001b[0mconstraints\u001b[0m\u001b[0;34m)\u001b[0m\u001b[0;34m\u001b[0m\u001b[0;34m\u001b[0m\u001b[0m\n\u001b[0m\u001b[1;32m    141\u001b[0m \u001b[0;34m\u001b[0m\u001b[0m\n\u001b[1;32m    142\u001b[0m     \u001b[0;31m#delete\u001b[0m\u001b[0;34m\u001b[0m\u001b[0;34m\u001b[0m\u001b[0;34m\u001b[0m\u001b[0m\n",
            "\u001b[0;32m/usr/lib/python3.7/random.py\u001b[0m in \u001b[0;36mchoice\u001b[0;34m(self, seq)\u001b[0m\n\u001b[1;32m    259\u001b[0m             \u001b[0mi\u001b[0m \u001b[0;34m=\u001b[0m \u001b[0mself\u001b[0m\u001b[0;34m.\u001b[0m\u001b[0m_randbelow\u001b[0m\u001b[0;34m(\u001b[0m\u001b[0mlen\u001b[0m\u001b[0;34m(\u001b[0m\u001b[0mseq\u001b[0m\u001b[0;34m)\u001b[0m\u001b[0;34m)\u001b[0m\u001b[0;34m\u001b[0m\u001b[0;34m\u001b[0m\u001b[0m\n\u001b[1;32m    260\u001b[0m         \u001b[0;32mexcept\u001b[0m \u001b[0mValueError\u001b[0m\u001b[0;34m:\u001b[0m\u001b[0;34m\u001b[0m\u001b[0;34m\u001b[0m\u001b[0m\n\u001b[0;32m--> 261\u001b[0;31m             \u001b[0;32mraise\u001b[0m \u001b[0mIndexError\u001b[0m\u001b[0;34m(\u001b[0m\u001b[0;34m'Cannot choose from an empty sequence'\u001b[0m\u001b[0;34m)\u001b[0m \u001b[0;32mfrom\u001b[0m \u001b[0;32mNone\u001b[0m\u001b[0;34m\u001b[0m\u001b[0;34m\u001b[0m\u001b[0m\n\u001b[0m\u001b[1;32m    262\u001b[0m         \u001b[0;32mreturn\u001b[0m \u001b[0mseq\u001b[0m\u001b[0;34m[\u001b[0m\u001b[0mi\u001b[0m\u001b[0;34m]\u001b[0m\u001b[0;34m\u001b[0m\u001b[0;34m\u001b[0m\u001b[0m\n\u001b[1;32m    263\u001b[0m \u001b[0;34m\u001b[0m\u001b[0m\n",
            "\u001b[0;31mIndexError\u001b[0m: Cannot choose from an empty sequence"
          ]
        }
      ]
    },
    {
      "cell_type": "code",
      "source": [
        "\n"
      ],
      "metadata": {
        "id": "W1SwgQ6gYb8I"
      },
      "execution_count": null,
      "outputs": []
    }
  ]
}